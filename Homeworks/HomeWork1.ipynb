{
  "nbformat": 4,
  "nbformat_minor": 0,
  "metadata": {
    "colab": {
      "name": "HomeWork1.ipynb",
      "provenance": [],
      "collapsed_sections": [],
      "authorship_tag": "ABX9TyM3eqbmdA6f6sdD8SqrPFFj",
      "include_colab_link": true
    },
    "kernelspec": {
      "name": "python3",
      "display_name": "Python 3"
    }
  },
  "cells": [
    {
      "cell_type": "markdown",
      "metadata": {
        "id": "view-in-github",
        "colab_type": "text"
      },
      "source": [
        "<a href=\"https://colab.research.google.com/github/bsekercioglu/gaih-students-repo-example/blob/main/Homeworks/HomeWork1.ipynb\" target=\"_parent\"><img src=\"https://colab.research.google.com/assets/colab-badge.svg\" alt=\"Open In Colab\"/></a>"
      ]
    },
    {
      "cell_type": "code",
      "metadata": {
        "colab": {
          "base_uri": "https://localhost:8080/"
        },
        "id": "PD3zNlDBMZTH",
        "outputId": "4e69c94c-2309-41be-8138-c16b0f668d9d"
      },
      "source": [
        "odd= list(range(1,10,2))\r\n",
        "even= list(range(0,10,2))\r\n",
        "print (odd)\r\n",
        "print (even)\r\n",
        "item=[]\r\n",
        "for x in even:item.append(x*2)\r\n",
        "for x in odd:item.append(x*2)\r\n",
        "item.sort()\r\n",
        "for y in item:print(f\"{y} türü={type(y)}\")"
      ],
      "execution_count": null,
      "outputs": [
        {
          "output_type": "stream",
          "text": [
            "[1, 3, 5, 7, 9]\n",
            "[0, 2, 4, 6, 8]\n",
            "0 türü=<class 'int'>\n",
            "2 türü=<class 'int'>\n",
            "4 türü=<class 'int'>\n",
            "6 türü=<class 'int'>\n",
            "8 türü=<class 'int'>\n",
            "10 türü=<class 'int'>\n",
            "12 türü=<class 'int'>\n",
            "14 türü=<class 'int'>\n",
            "16 türü=<class 'int'>\n",
            "18 türü=<class 'int'>\n"
          ],
          "name": "stdout"
        }
      ]
    }
  ]
}