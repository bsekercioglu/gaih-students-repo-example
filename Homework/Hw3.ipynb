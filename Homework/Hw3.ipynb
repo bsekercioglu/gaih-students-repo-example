{
  "nbformat": 4,
  "nbformat_minor": 0,
  "metadata": {
    "colab": {
      "name": "Hw3.ipynb",
      "provenance": [],
      "collapsed_sections": [],
      "authorship_tag": "ABX9TyNEUpLKCFpT/HsrOvlY6LNP",
      "include_colab_link": true
    },
    "kernelspec": {
      "name": "python3",
      "display_name": "Python 3"
    }
  },
  "cells": [
    {
      "cell_type": "markdown",
      "metadata": {
        "id": "view-in-github",
        "colab_type": "text"
      },
      "source": [
        "<a href=\"https://colab.research.google.com/github/bsekercioglu/gaih-students-repo-example/blob/main/Homework/Hw3.ipynb\" target=\"_parent\"><img src=\"https://colab.research.google.com/assets/colab-badge.svg\" alt=\"Open In Colab\"/></a>"
      ]
    },
    {
      "cell_type": "markdown",
      "metadata": {
        "id": "IButrk_pNHRN"
      },
      "source": [
        "#Course Grade Application"
      ]
    },
    {
      "cell_type": "code",
      "metadata": {
        "colab": {
          "base_uri": "https://localhost:8080/"
        },
        "id": "Vm_vDH0ONDHa",
        "outputId": "dc336108-eac5-4131-df78-29304300da84"
      },
      "source": [
        "classList=[]\r\n",
        "ogrenci={\"AdSoyad\":1,\"midTerm\":2,\"project\":3,\"final\":3}\r\n",
        "\r\n",
        "\r\n",
        "\r\n",
        "for ogrenciler in range(5):\r\n",
        "  for key, value in ogrenci.items(): \r\n",
        "   ogrenci[key]=input((key + \" :\"))\r\n",
        "  print(\"------------------------------------\")\r\n",
        "  total= float((float(ogrenci[\"midTerm\"])*0.3)+(float(ogrenci[\"project\"])*0.3)+(float(ogrenci[\"final\"])*0.4))\r\n",
        "  temp=ogrenci.copy()\r\n",
        "  temp[\"total\"]=total\r\n",
        "  classList.append(temp)\r\n",
        "print(classList)\r\n",
        "print(sorted(classList, key = lambda i: i['total'],reverse=True))\r\n"
      ],
      "execution_count": 28,
      "outputs": [
        {
          "output_type": "stream",
          "text": [
            "AdSoyad :Burak\n",
            "midTerm :48\n",
            "project :58\n",
            "final :68\n",
            "------------------------------------\n",
            "AdSoyad :Tuba\n",
            "midTerm :58\n",
            "project :68\n",
            "final :78\n",
            "------------------------------------\n",
            "AdSoyad :Ada\n",
            "midTerm :98\n",
            "project :50\n",
            "final :45\n",
            "------------------------------------\n",
            "AdSoyad :Ata\n",
            "midTerm :89\n",
            "project :39\n",
            "final :78\n",
            "------------------------------------\n",
            "AdSoyad :Paşa\n",
            "midTerm :58\n",
            "project :78\n",
            "final :78\n",
            "------------------------------------\n",
            "[{'AdSoyad': 'Burak', 'midTerm': '48', 'project': '58', 'final': '68', 'total': 59.0}, {'AdSoyad': 'Tuba', 'midTerm': '58', 'project': '68', 'final': '78', 'total': 69.0}, {'AdSoyad': 'Ada', 'midTerm': '98', 'project': '50', 'final': '45', 'total': 62.4}, {'AdSoyad': 'Ata', 'midTerm': '89', 'project': '39', 'final': '78', 'total': 69.6}, {'AdSoyad': 'Paşa', 'midTerm': '58', 'project': '78', 'final': '78', 'total': 72.0}]\n"
          ],
          "name": "stdout"
        }
      ]
    },
    {
      "cell_type": "code",
      "metadata": {
        "colab": {
          "base_uri": "https://localhost:8080/"
        },
        "id": "Ze6cytMUOfCz",
        "outputId": "d76706b8-ee1d-4418-ccf9-f55b2090d9c1"
      },
      "source": [
        "print(sorted(classList, key = lambda i: i['total'],reverse=True))"
      ],
      "execution_count": 29,
      "outputs": [
        {
          "output_type": "stream",
          "text": [
            "[{'AdSoyad': 'Paşa', 'midTerm': '58', 'project': '78', 'final': '78', 'total': 72.0}, {'AdSoyad': 'Ata', 'midTerm': '89', 'project': '39', 'final': '78', 'total': 69.6}, {'AdSoyad': 'Tuba', 'midTerm': '58', 'project': '68', 'final': '78', 'total': 69.0}, {'AdSoyad': 'Ada', 'midTerm': '98', 'project': '50', 'final': '45', 'total': 62.4}, {'AdSoyad': 'Burak', 'midTerm': '48', 'project': '58', 'final': '68', 'total': 59.0}]\n"
          ],
          "name": "stdout"
        }
      ]
    }
  ]
}