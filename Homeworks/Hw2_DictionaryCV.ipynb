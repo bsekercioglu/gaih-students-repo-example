{
  "nbformat": 4,
  "nbformat_minor": 0,
  "metadata": {
    "colab": {
      "name": "Hw2_DictionaryCV.ipynb",
      "provenance": [],
      "authorship_tag": "ABX9TyPTtkhUpGVf11POwrX1YRIN",
      "include_colab_link": true
    },
    "kernelspec": {
      "name": "python3",
      "display_name": "Python 3"
    }
  },
  "cells": [
    {
      "cell_type": "markdown",
      "metadata": {
        "id": "view-in-github",
        "colab_type": "text"
      },
      "source": [
        "<a href=\"https://colab.research.google.com/github/bsekercioglu/gaih-students-repo-example/blob/main/Homeworks/Hw2_DictionaryCV.ipynb\" target=\"_parent\"><img src=\"https://colab.research.google.com/assets/colab-badge.svg\" alt=\"Open In Colab\"/></a>"
      ]
    },
    {
      "cell_type": "code",
      "metadata": {
        "colab": {
          "base_uri": "https://localhost:8080/"
        },
        "id": "E5_BuzMcIbAv",
        "outputId": "606d000c-6eae-4b59-d075-ceb4c4a0f807"
      },
      "source": [
        "cvBank=[]\r\n",
        "cvBank.append({\"Ad\":\"Burak\",\"Soyad\":\"ŞEKERCİOĞLU\",\"DogumTarihi\":\"04.01.1977\",\"Sehir\":\"Samsun\",\"Eposta\":\"burak@samsuntso.org.tr\"})\r\n",
        "cvBank.append({\"Ad\":\"Ata\",\"Soyad\":\"ŞEKERCİOĞLU\",\"DogumTarihi\":\"01.07.2009\",\"Sehir\":\"Samsun\",\"Eposta\":\"ata@sekercioglu.eu\"})\r\n",
        "cvBank.append({\"Ad\":\"Ada\",\"Soyad\":\"ŞEKERCİOĞLU\",\"DogumTarihi\":\"13.08.2007\",\"Sehir\":\"Samsun\",\"Eposta\":\"ada@sekercioglu.eu\"})\r\n",
        "cvBank.append({\"Ad\":\"Ege\",\"Soyad\":\"ŞEKERCİOĞLU\",\"DogumTarihi\":\"11.11.1990\",\"Sehir\":\"Budapeşte\",\"Eposta\":\"ege@sekercioglu.eu\"})\r\n",
        "cvBank.append({\"Ad\":\"Orbay\",\"Soyad\":\"ŞEKERCİOĞLU\",\"DogumTarihi\":\"22.02.1994\",\"Sehir\":\"İzmir\",\"Eposta\":\"orbay@sekercioglu.eu\"})\r\n",
        "\r\n",
        "print(cvBank)\r\n",
        "for cv in cvBank:\r\n",
        "  for key,value in cv.items():\r\n",
        "    print(f\"{key}:{value}\")\r\n",
        "  print(\"---------------\")\r\n"
      ],
      "execution_count": 13,
      "outputs": [
        {
          "output_type": "stream",
          "text": [
            "[{'Ad': 'Burak', 'Soyad': 'ŞEKERCİOĞLU', 'DogumTarihi': '04.01.1977', 'Sehir': 'Samsun', 'Eposta': 'burak@samsuntso.org.tr'}, {'Ad': 'Ata', 'Soyad': 'ŞEKERCİOĞLU', 'DogumTarihi': '01.07.2009', 'Sehir': 'Samsun', 'Eposta': 'ata@sekercioglu.eu'}, {'Ad': 'Ada', 'Soyad': 'ŞEKERCİOĞLU', 'DogumTarihi': '13.08.2007', 'Sehir': 'Samsun', 'Eposta': 'ada@sekercioglu.eu'}, {'Ad': 'Ege', 'Soyad': 'ŞEKERCİOĞLU', 'DogumTarihi': '11.11.1990', 'Sehir': 'Budapeşte', 'Eposta': 'ege@sekercioglu.eu'}, {'Ad': 'Orbay', 'Soyad': 'ŞEKERCİOĞLU', 'DogumTarihi': '22.02.1994', 'Sehir': 'İzmir', 'Eposta': 'orbay@sekercioglu.eu'}]\n",
            "Ad:Burak\n",
            "Soyad:ŞEKERCİOĞLU\n",
            "DogumTarihi:04.01.1977\n",
            "Sehir:Samsun\n",
            "Eposta:burak@samsuntso.org.tr\n",
            "---------------\n",
            "Ad:Ata\n",
            "Soyad:ŞEKERCİOĞLU\n",
            "DogumTarihi:01.07.2009\n",
            "Sehir:Samsun\n",
            "Eposta:ata@sekercioglu.eu\n",
            "---------------\n",
            "Ad:Ada\n",
            "Soyad:ŞEKERCİOĞLU\n",
            "DogumTarihi:13.08.2007\n",
            "Sehir:Samsun\n",
            "Eposta:ada@sekercioglu.eu\n",
            "---------------\n",
            "Ad:Ege\n",
            "Soyad:ŞEKERCİOĞLU\n",
            "DogumTarihi:11.11.1990\n",
            "Sehir:Budapeşte\n",
            "Eposta:ege@sekercioglu.eu\n",
            "---------------\n",
            "Ad:Orbay\n",
            "Soyad:ŞEKERCİOĞLU\n",
            "DogumTarihi:22.02.1994\n",
            "Sehir:İzmir\n",
            "Eposta:orbay@sekercioglu.eu\n",
            "---------------\n"
          ],
          "name": "stdout"
        }
      ]
    }
  ]
}