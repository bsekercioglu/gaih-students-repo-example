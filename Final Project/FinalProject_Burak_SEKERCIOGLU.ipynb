{
  "nbformat": 4,
  "nbformat_minor": 0,
  "metadata": {
    "colab": {
      "name": "FinalProject-Burak SEKERCIOGLU.ipynb",
      "provenance": [],
      "collapsed_sections": [],
      "authorship_tag": "ABX9TyNgSeoRqqYJETXWMCdC1ZX9",
      "include_colab_link": true
    },
    "kernelspec": {
      "name": "python3",
      "display_name": "Python 3"
    }
  },
  "cells": [
    {
      "cell_type": "markdown",
      "metadata": {
        "id": "view-in-github",
        "colab_type": "text"
      },
      "source": [
        "<a href=\"https://colab.research.google.com/github/bsekercioglu/gaih-students-repo-example/blob/main/Final%20Project/FinalProject_Burak_SEKERCIOGLU.ipynb\" target=\"_parent\"><img src=\"https://colab.research.google.com/assets/colab-badge.svg\" alt=\"Open In Colab\"/></a>"
      ]
    },
    {
      "cell_type": "markdown",
      "metadata": {
        "id": "5EawwE1qTebY"
      },
      "source": [
        "#Final Project\r\n",
        "##Bilgi Yarışması\r\n",
        "* Bilgi yarışması programı yazın.\r\n",
        "* Yarışma 10 sorudan oluşmalıdır.\r\n",
        "* Her sorunun BİR yanıtı olmalıdır.\r\n",
        "* Soruların cevapları case-sensitive olmalıdır.\r\n",
        "* Her soru 10 puan değerinde olmalıdır.\r\n",
        "* Eğer yarışmacı 5 doğru yanıtın altında cevap verirse BAŞARISIZ olur.\r\n",
        "* Eğer yarışmacı 5 ve üzerinde doğru yanıt verirse BAŞARILI olur.\r\n"
      ]
    },
    {
      "cell_type": "code",
      "metadata": {
        "colab": {
          "base_uri": "https://localhost:8080/"
        },
        "id": "OtxKZtW6TdYV",
        "outputId": "1219b576-a5c0-497a-cc87-c828edf2650d"
      },
      "source": [
        "sorular={\"Başkentimiz neresidir?\":\"Ankara\",\r\n",
        "         \"En kalabalık şehrimiz neresidir?\":\"İstanbul\",\r\n",
        "         \"Soyadı kanunu hangi yıl çıkmıştır\":\"1934\",\r\n",
        "         \"Kurtuluş Savaşı hangi yıl başladı\":\"1919\",\r\n",
        "         \"Atatürk hangi yıl doğdu\":\"1881\",\r\n",
        "         \"Python programlama dili ne zaman çıktı\":\"1990\",\r\n",
        "         \"Atatürk ilkelerine göre 'Aklın ve bilimin yol göstericiliğinde çağın gerçeklerine göre sürekli olarak geliştirilmesi ve yenilenme ilkesi' hangisidir\":\"İnkılapçılık\",\r\n",
        "         \"Internetin ilk adımları sayılan DARPANet ne zaman hizmete başlamıştır\":\"1969\",\r\n",
        "         \"Python kütüphanelerinden lineer cebir kütüphanesi hangisidir.\":\"numpy\",\r\n",
        "         \"Python kütüphanelerinden veri analizi kütüphanesi hangisidir.\":\"pandas\"\r\n",
        "         }\r\n",
        "i=0\r\n",
        "puan=0\r\n",
        "for soru,value in sorular.items():\r\n",
        "  i+=1\r\n",
        "  v=input(\"(\"+str(i)+\". Soru) : \"+ soru +\" \r\n",
        "  \")\r\n",
        "  if v==value:\r\n",
        "    puan+=10\r\n",
        "if puan<50:\r\n",
        "  print (str(puan) + \" Puan ile BAŞARISIZ oldunuz.\")\r\n",
        "else:\r\n",
        "  print (str(puan) + \" Puan ile BAŞARILI oldunuz. Tebrikler !!!\")\r\n",
        "\r\n"
      ],
      "execution_count": 13,
      "outputs": [
        {
          "output_type": "stream",
          "text": [
            "(1. Soru) : Başkentimiz neresidir? Ankara\n",
            "(2. Soru) : En kalabalık şehrimiz neresidir? İstanbul\n",
            "(3. Soru) : Soyadı kanunu hangi yıl çıkmıştır 1934\n",
            "(4. Soru) : Kurtuluş Savaşı hangi yıl başladı 1919\n",
            "(5. Soru) : Atatürk hangi yıl doğdu 1889\n",
            "(6. Soru) : Python programlama dili ne zaman çıktı 1976\n",
            "(7. Soru) : Atatürk ilkelerine göre 'Aklın ve bilimin yol göstericiliğinde çağın gerçeklerine göre sürekli olarak geliştirilmesi ve yenilenme ilkesi' hangisidir Inkılapçılık\n",
            "(8. Soru) : Internetin ilk adımları sayılan DARPANet ne zaman hizmete başlamıştır 1969\n",
            "(9. Soru) : Python kütüphanelerinden lineer cebir kütüphanesi hangisidir. numpy\n",
            "(10. Soru) : Python kütüphanelerinden veri analizi kütüphanesi hangisidir. pandas\n",
            "70 Puan ile BAŞARILI oldunuz. Tebrikler !!!\n"
          ],
          "name": "stdout"
        }
      ]
    }
  ]
}